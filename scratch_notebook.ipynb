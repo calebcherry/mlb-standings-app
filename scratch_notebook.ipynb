{
 "cells": [
  {
   "cell_type": "code",
   "execution_count": 1,
   "id": "ca0811ac",
   "metadata": {},
   "outputs": [],
   "source": [
    "import pandas as pd\n",
    "import httpx"
   ]
  },
  {
   "cell_type": "code",
   "execution_count": 2,
   "id": "f639b024",
   "metadata": {},
   "outputs": [],
   "source": [
    "def fetch_mlb_standings():\n",
    "    url = \"https://site.api.espn.com/apis/site/v2/sports/baseball/mlb/standings\"\n",
    "    response = httpx.get(url)\n",
    "    response.raise_for_status()  # Raise an error for bad responses\n",
    "    return response.json()"
   ]
  },
  {
   "cell_type": "code",
   "execution_count": 3,
   "id": "edaa98e0",
   "metadata": {},
   "outputs": [
    {
     "data": {
      "text/plain": [
       "{'fullViewLink': {'text': 'Full Standings',\n",
       "  'href': 'https://www.espn.com/mlb/standings'}}"
      ]
     },
     "execution_count": 3,
     "metadata": {},
     "output_type": "execute_result"
    }
   ],
   "source": [
    "fetch_mlb_standings()"
   ]
  },
  {
   "cell_type": "code",
   "execution_count": null,
   "id": "4f0eac02",
   "metadata": {},
   "outputs": [],
   "source": []
  }
 ],
 "metadata": {
  "kernelspec": {
   "display_name": ".venv",
   "language": "python",
   "name": "python3"
  },
  "language_info": {
   "codemirror_mode": {
    "name": "ipython",
    "version": 3
   },
   "file_extension": ".py",
   "mimetype": "text/x-python",
   "name": "python",
   "nbconvert_exporter": "python",
   "pygments_lexer": "ipython3",
   "version": "3.13.3"
  }
 },
 "nbformat": 4,
 "nbformat_minor": 5
}
